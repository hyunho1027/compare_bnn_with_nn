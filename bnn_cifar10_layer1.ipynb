{
 "cells": [
  {
   "cell_type": "code",
   "execution_count": 1,
   "metadata": {
    "scrolled": true
   },
   "outputs": [
    {
     "name": "stderr",
     "output_type": "stream",
     "text": [
      "C:\\Users\\user\\Anaconda3\\lib\\site-packages\\h5py\\__init__.py:36: FutureWarning: Conversion of the second argument of issubdtype from `float` to `np.floating` is deprecated. In future, it will be treated as `np.float64 == np.dtype(float).type`.\n",
      "  from ._conv import register_converters as _register_converters\n"
     ]
    }
   ],
   "source": [
    "import matplotlib.pyplot as plt\n",
    "import numpy as np\n",
    "import tensorflow as tf\n",
    "from edward.models import Categorical, Normal\n",
    "import edward as ed"
   ]
  },
  {
   "cell_type": "code",
   "execution_count": 2,
   "metadata": {},
   "outputs": [],
   "source": [
    "def next_batch(dataset, N, i):\n",
    "    left = i*N % len(dataset[0])\n",
    "    right = (i+1)*N % len(dataset[0])\n",
    "    \n",
    "    if left < right :\n",
    "        return dataset[0][left:right], dataset[1][left:right]\n",
    "    else:\n",
    "        return np.vstack((dataset[0][left:],dataset[0][:right])), np.vstack((dataset[1][left:],dataset[1][:right]))"
   ]
  },
  {
   "cell_type": "code",
   "execution_count": 3,
   "metadata": {},
   "outputs": [],
   "source": [
    "train_data, test_data = tf.keras.datasets.cifar10.load_data()"
   ]
  },
  {
   "cell_type": "code",
   "execution_count": 4,
   "metadata": {},
   "outputs": [],
   "source": [
    "# parameters\n",
    "N = 32   # number of images in a minibatch.\n",
    "D = 32*32*3   # number of features.\n",
    "K = 10    # number of classes."
   ]
  },
  {
   "cell_type": "code",
   "execution_count": 5,
   "metadata": {},
   "outputs": [],
   "source": [
    "# Create a placeholder to hold the data (in minibatches) in a TensorFlow graph.\n",
    "x = tf.placeholder(tf.float32, [None, D])\n",
    "# Normal(0,1) priors for the variables. Note that the syntax assumes TensorFlow 1.1.\n",
    "w = Normal(loc=tf.zeros([D, K]), scale=tf.ones([D, K]))\n",
    "b = Normal(loc=tf.zeros(K), scale=tf.ones(K))\n",
    "# Categorical likelihood for classication.\n",
    "y = Categorical(tf.matmul(x,w)+b)\n",
    "\n",
    "# Contruct the q(w) and q(b). in this case we assume Normal distributions.\n",
    "qw = Normal(loc=tf.Variable(tf.random_normal([D, K])),\n",
    "              scale=tf.nn.softplus(tf.Variable(tf.random_normal([D, K]))))\n",
    "qb = Normal(loc=tf.Variable(tf.random_normal([K])),\n",
    "              scale=tf.nn.softplus(tf.Variable(tf.random_normal([K]))))\n",
    "\n",
    "# We use a placeholder for the labels in anticipation of the traning data.\n",
    "y_ph = tf.placeholder(tf.int32, [N])\n",
    "# Define the VI inference technique, ie. minimise the KL divergence between q and p.\n",
    "inference = ed.KLqp({w: qw, b: qb}, data={y:y_ph})"
   ]
  },
  {
   "cell_type": "code",
   "execution_count": 11,
   "metadata": {},
   "outputs": [],
   "source": [
    "# Initialse the infernce variables\n",
    "inference.initialize(n_iter= 50000, n_print=100, scale={y: float(len(train_data[0])) / N})\n",
    "\n",
    "# We will use an interactive session.\n",
    "sess = tf.InteractiveSession()\n",
    "# Initialise all the vairables in the session.\n",
    "tf.global_variables_initializer().run()"
   ]
  },
  {
   "cell_type": "code",
   "execution_count": 12,
   "metadata": {},
   "outputs": [
    {
     "name": "stdout",
     "output_type": "stream",
     "text": [
      "50000/50000 [100%] ██████████████████████████████ Elapsed: 122s | Loss: 471549216.000\n"
     ]
    }
   ],
   "source": [
    "# Let the training begin. We load the data in minibatches and update the VI infernce using each new batch.\n",
    "for i in range(inference.n_iter):\n",
    "    X_batch, Y_batch = next_batch(train_data, N, i)\n",
    "    info_dict = inference.update(feed_dict={x: np.reshape(X_batch,(-1, 32*32*3)), y_ph: np.reshape(Y_batch,(-1))})\n",
    "    inference.print_progress(info_dict)"
   ]
  },
  {
   "cell_type": "code",
   "execution_count": 15,
   "metadata": {},
   "outputs": [],
   "source": [
    "# Load the test images.\n",
    "X_test = np.reshape(test_data[0],(-1,32*32*3)).astype(np.float32)\n",
    "# TensorFlow method gives the label data in a one hot vetor format. We convert that into a single label.\n",
    "Y_test = np.reshape(test_data[1],(-1))"
   ]
  },
  {
   "cell_type": "code",
   "execution_count": 9,
   "metadata": {},
   "outputs": [
    {
     "name": "stdout",
     "output_type": "stream",
     "text": [
      "1 steps completed.\n",
      "2 steps completed.\n",
      "3 steps completed.\n",
      "4 steps completed.\n",
      "5 steps completed.\n",
      "6 steps completed.\n",
      "7 steps completed.\n",
      "8 steps completed.\n",
      "9 steps completed.\n",
      "10 steps completed.\n"
     ]
    }
   ],
   "source": [
    "# Generate samples the posterior and store them.\n",
    "n_samples = 10\n",
    "prob_lst = []\n",
    "\n",
    "for i in range(n_samples):\n",
    "    w_samp = qw.sample()\n",
    "    b_samp = qb.sample()\n",
    "\n",
    "    # Also compue the probabiliy of each class for each (w,b) sample.\n",
    "    prob = tf.nn.softmax(tf.matmul( X_test, w_samp ) + b_samp)\n",
    "    prob_lst.append(prob.eval())\n",
    "    print(i+1, \"steps completed.\")\n"
   ]
  },
  {
   "cell_type": "code",
   "execution_count": 16,
   "metadata": {},
   "outputs": [
    {
     "name": "stdout",
     "output_type": "stream",
     "text": [
      "[6. 9. 8. ... 5. 6. 2.]\n",
      "[3 8 8 ... 5 1 7]\n",
      "[6. 9. 9. ... 6. 6. 6.]\n",
      "[3 8 8 ... 5 1 7]\n",
      "[5. 8. 8. ... 5. 5. 5.]\n",
      "[3 8 8 ... 5 1 7]\n",
      "[8. 8. 8. ... 3. 8. 7.]\n",
      "[3 8 8 ... 5 1 7]\n",
      "[3. 9. 0. ... 5. 4. 0.]\n",
      "[3 8 8 ... 5 1 7]\n",
      "[8. 8. 0. ... 4. 4. 4.]\n",
      "[3 8 8 ... 5 1 7]\n",
      "[5. 9. 8. ... 5. 6. 4.]\n",
      "[3 8 8 ... 5 1 7]\n",
      "[3. 9. 7. ... 7. 7. 7.]\n",
      "[3 8 8 ... 5 1 7]\n",
      "[5. 9. 5. ... 5. 5. 5.]\n",
      "[3 8 8 ... 5 1 7]\n",
      "[8. 9. 8. ... 4. 4. 4.]\n",
      "[3 8 8 ... 5 1 7]\n",
      "Expactation of Accuracy:  0.23761001\n"
     ]
    },
    {
     "data": {
      "image/png": "[encoded data removed]",
      "text/plain": [
       "<Figure size 432x288 with 1 Axes>"
      ]
     },
     "metadata": {},
     "output_type": "display_data"
    }
   ],
   "source": [
    "accy_test = []\n",
    "for prob in prob_lst:\n",
    "    y_trn_prd = np.argmax(prob,axis=1).astype(np.float32)\n",
    "    print(y_trn_prd)\n",
    "    print(Y_test)\n",
    "    acc = (y_trn_prd == Y_test).mean()\n",
    "    accy_test.append(acc)\n",
    "\n",
    "print(\"Expactation of Accuracy: \", sess.run(tf.reduce_mean(accy_test)))\n",
    "\n",
    "plt.hist(accy_test)\n",
    "plt.title(\"Histogram of prediction accuracies in the MNIST test data\")\n",
    "plt.xlabel(\"Accuracy\")\n",
    "plt.ylabel(\"Frequency\")\n",
    "plt.show()"
   ]
  },
  {
   "cell_type": "code",
   "execution_count": 14,
   "metadata": {},
   "outputs": [
    {
     "name": "stdout",
     "output_type": "stream",
     "text": [
      "10000\n"
     ]
    }
   ],
   "source": [
    "print(len(Y_test))"
   ]
  },
  {
   "cell_type": "code",
   "execution_count": null,
   "metadata": {},
   "outputs": [],
   "source": []
  }
 ],
 "metadata": {
  "kernelspec": {
   "display_name": "Python 3",
   "language": "python",
   "name": "python3"
  },
  "language_info": {
   "codemirror_mode": {
    "name": "ipython",
    "version": 3
   },
   "file_extension": ".py",
   "mimetype": "text/x-python",
   "name": "python",
   "nbconvert_exporter": "python",
   "pygments_lexer": "ipython3",
   "version": "3.6.5"
  }
 },
 "nbformat": 4,
 "nbformat_minor": 2
}
