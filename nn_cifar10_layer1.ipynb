{
 "cells": [
  {
   "cell_type": "code",
   "execution_count": 1,
   "metadata": {},
   "outputs": [
    {
     "name": "stderr",
     "output_type": "stream",
     "text": [
      "C:\\Users\\user\\Anaconda3\\lib\\site-packages\\h5py\\__init__.py:36: FutureWarning: Conversion of the second argument of issubdtype from `float` to `np.floating` is deprecated. In future, it will be treated as `np.float64 == np.dtype(float).type`.\n",
      "  from ._conv import register_converters as _register_converters\n"
     ]
    }
   ],
   "source": [
    "import numpy as np\n",
    "import tensorflow as tf\n",
    "\n",
    "def make_val(train_data, val_size):\n",
    "\n",
    "    val_idx = np.random.choice(range(len(train_data[0])), val_size, replace=False)\n",
    "    val_data = (train_data[0][val_idx], train_data[1][val_idx])\n",
    "    train_data = (np.delete(train_data[0], val_idx, 0), np.delete(train_data[1], val_idx, 0))\n",
    "\n",
    "    return train_data, val_data\n",
    "\n",
    "def make_onehot(dataset, cate_num):\n",
    "\n",
    "    dataset = (dataset[0], np.squeeze(np.eye(cate_num)[dataset[1]]))\n",
    "\n",
    "    return dataset"
   ]
  },
  {
   "cell_type": "code",
   "execution_count": 2,
   "metadata": {},
   "outputs": [],
   "source": [
    "train_data, test_data = tf.keras.datasets.cifar10.load_data()\n",
    "\n",
    "train_data, val_data = make_val(train_data, 2000)\n",
    "\n",
    "train_data = make_onehot(train_data, 10) # Shape: ((48000, 32, 32, 3), (48000, 10))\n",
    "val_data = make_onehot(val_data, 10) # Shape: ((2000, 32, 32, 3), (2000, 10))\n",
    "test_data = make_onehot(test_data, 10) # Shape: ((10000, 32, 32, 3), (10000, 10))"
   ]
  },
  {
   "cell_type": "code",
   "execution_count": 3,
   "metadata": {},
   "outputs": [],
   "source": [
    "# parameters\n",
    "learning_rate = 0.001\n",
    "training_epochs = 10\n",
    "BATCH_SIZE = 32\n",
    "batch_size = tf.placeholder(tf.int64)\n",
    "total_batch = len(train_data[0]) // BATCH_SIZE"
   ]
  },
  {
   "cell_type": "code",
   "execution_count": 4,
   "metadata": {},
   "outputs": [],
   "source": [
    "# create the Dataset\n",
    "X = tf.placeholder(tf.float32, [None, 32*32*3])\n",
    "Y = tf.placeholder(tf.float32, [None, 10])\n",
    "\n",
    "dataset = tf.data.Dataset.from_tensor_slices((X, Y)).shuffle(buffer_size=10000).batch(batch_size).repeat()\n",
    "\n",
    "# create the iter\n",
    "iter = dataset.make_initializable_iterator()\n",
    "features, labels = iter.get_next()"
   ]
  },
  {
   "cell_type": "code",
   "execution_count": 5,
   "metadata": {},
   "outputs": [],
   "source": [
    "# create the model\n",
    "W1 = tf.Variable(tf.random_normal([32*32*3,10], stddev=0.01))\n",
    "b1 = tf.Variable(tf.random_normal([10]))\n",
    "\n",
    "logits = tf.matmul(features, W1) + b1"
   ]
  },
  {
   "cell_type": "code",
   "execution_count": 6,
   "metadata": {},
   "outputs": [],
   "source": [
    "# define cost/loss & optimizer & accuracy\n",
    "cost = tf.reduce_mean(tf.nn.softmax_cross_entropy_with_logits_v2(\n",
    "    logits=logits, labels=labels))\n",
    "optimizer = tf.train.AdamOptimizer(learning_rate=learning_rate).minimize(cost)\n",
    "correct_prediction = tf.equal(tf.argmax(logits, 1), tf.argmax(labels, 1))\n",
    "accuracy = tf.reduce_mean(tf.cast(correct_prediction, tf.float32))"
   ]
  },
  {
   "cell_type": "code",
   "execution_count": 7,
   "metadata": {},
   "outputs": [],
   "source": [
    "# initialize\n",
    "sess = tf.Session()\n",
    "sess.run(tf.global_variables_initializer())"
   ]
  },
  {
   "cell_type": "code",
   "execution_count": 8,
   "metadata": {},
   "outputs": [
    {
     "name": "stdout",
     "output_type": "stream",
     "text": [
      "1 Epoch Start!\n",
      "Epoch: 1, Loss: 90.7215, train Accu: 0.2330, val Accu: 0.2400\n",
      "2 Epoch Start!\n",
      "Epoch: 2, Loss: 81.9838, train Accu: 0.2577, val Accu: 0.2225\n",
      "3 Epoch Start!\n",
      "Epoch: 3, Loss: 82.6375, train Accu: 0.2638, val Accu: 0.2010\n",
      "4 Epoch Start!\n",
      "Epoch: 4, Loss: 82.7504, train Accu: 0.2727, val Accu: 0.2425\n",
      "5 Epoch Start!\n",
      "Epoch: 5, Loss: 85.3138, train Accu: 0.2701, val Accu: 0.2825\n",
      "6 Epoch Start!\n",
      "Epoch: 6, Loss: 81.6012, train Accu: 0.2749, val Accu: 0.2750\n",
      "7 Epoch Start!\n",
      "Epoch: 7, Loss: 83.9155, train Accu: 0.2752, val Accu: 0.2465\n",
      "8 Epoch Start!\n",
      "Epoch: 8, Loss: 83.6345, train Accu: 0.2778, val Accu: 0.2545\n",
      "9 Epoch Start!\n",
      "Epoch: 9, Loss: 82.1389, train Accu: 0.2832, val Accu: 0.2635\n",
      "10 Epoch Start!\n",
      "Epoch: 10, Loss: 84.4009, train Accu: 0.2784, val Accu: 0.2780\n",
      "Learning Finished!\n"
     ]
    }
   ],
   "source": [
    "# train my model\n",
    "for epoch in range(training_epochs):\n",
    "    print('{} Epoch Start!'.format(epoch + 1))\n",
    "    sess.run(iter.initializer, feed_dict={X: np.reshape(train_data[0],(-1,32*32*3)), Y: train_data[1], batch_size: BATCH_SIZE})\n",
    "    total_cost = 0\n",
    "    train_accu = 0\n",
    "\n",
    "    for i in range(total_batch):\n",
    "        a, c, _ = sess.run([accuracy, cost, optimizer])\n",
    "        total_cost += c\n",
    "        train_accu += a\n",
    "\n",
    "    sess.run(iter.initializer, feed_dict={X: np.reshape(val_data[0],(-1,32*32*3)), Y: val_data[1], batch_size: len(val_data[0])})\n",
    "    val_accu = sess.run(accuracy)\n",
    "\n",
    "    print(\"Epoch: {}, Loss: {:.4f}, train Accu: {:.4f}, val Accu: {:.4f}\".format(epoch + 1, total_cost / total_batch,\n",
    "                                                                                 train_accu / total_batch, val_accu))\n",
    "print('Learning Finished!')"
   ]
  },
  {
   "cell_type": "code",
   "execution_count": null,
   "metadata": {},
   "outputs": [],
   "source": [
    "# Test model and check accuracy\n",
    "print('Accuracy:', sess.run(accuracy, feed_dict={\n",
    "      X: np.reshape(test_data[0],(-1,32*32*3)), Y: test_data[1]}))"
   ]
  }
 ],
 "metadata": {
  "kernelspec": {
   "display_name": "Python 3",
   "language": "python",
   "name": "python3"
  },
  "language_info": {
   "codemirror_mode": {
    "name": "ipython",
    "version": 3
   },
   "file_extension": ".py",
   "mimetype": "text/x-python",
   "name": "python",
   "nbconvert_exporter": "python",
   "pygments_lexer": "ipython3",
   "version": "3.6.5"
  }
 },
 "nbformat": 4,
 "nbformat_minor": 2
}
