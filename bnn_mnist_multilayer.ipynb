{
 "cells": [
  {
   "cell_type": "code",
   "execution_count": 1,
   "metadata": {},
   "outputs": [
    {
     "name": "stderr",
     "output_type": "stream",
     "text": [
      "C:\\Users\\user\\Anaconda3\\lib\\site-packages\\h5py\\__init__.py:36: FutureWarning: Conversion of the second argument of issubdtype from `float` to `np.floating` is deprecated. In future, it will be treated as `np.float64 == np.dtype(float).type`.\n",
      "  from ._conv import register_converters as _register_converters\n"
     ]
    }
   ],
   "source": [
    "import matplotlib.pyplot as plt\n",
    "import numpy as np\n",
    "import tensorflow as tf\n",
    "from tensorflow.examples.tutorials.mnist import input_data\n",
    "from edward.models import Categorical, Normal\n",
    "import edward as ed"
   ]
  },
  {
   "cell_type": "code",
   "execution_count": 2,
   "metadata": {},
   "outputs": [
    {
     "name": "stdout",
     "output_type": "stream",
     "text": [
      "Extracting MNIST_data/train-images-idx3-ubyte.gz\n",
      "Extracting MNIST_data/train-labels-idx1-ubyte.gz\n",
      "Extracting MNIST_data/t10k-images-idx3-ubyte.gz\n",
      "Extracting MNIST_data/t10k-labels-idx1-ubyte.gz\n"
     ]
    }
   ],
   "source": [
    "# Use the TensorFlow method to download and/or load the data.\n",
    "mnist = input_data.read_data_sets(\"MNIST_data/\", one_hot=True)\n",
    "\n",
    "# parameters\n",
    "N = 256   # number of images in a minibatch.\n",
    "D = 784   # number of features.\n",
    "K = 10    # number of classes."
   ]
  },
  {
   "cell_type": "code",
   "execution_count": 3,
   "metadata": {},
   "outputs": [],
   "source": [
    "# Create a placeholder to hold the data (in minibatches) in a TensorFlow graph.\n",
    "x = tf.placeholder(tf.float32, [None, D])\n",
    "# Normal(0,1) priors for the variables. Note that the syntax assumes TensorFlow 1.1.\n",
    "w1 = Normal(loc=tf.zeros([D, 256]), scale=tf.ones([D, 256]))\n",
    "b1 = Normal(loc=tf.zeros(256), scale=tf.ones(256))\n",
    "l1 = tf.nn.leaky_relu(tf.matmul(x,w1)+b1)\n",
    "\n",
    "w2 = Normal(loc=tf.zeros([256, 256]), scale=tf.ones([256, 256]))\n",
    "b2 = Normal(loc=tf.zeros(256), scale=tf.ones(256))\n",
    "l2 = tf.nn.leaky_relu(tf.matmul(l1,w2)+b2)\n",
    "\n",
    "w3 = Normal(loc=tf.zeros([256, K]), scale=tf.ones([256, K]))\n",
    "b3 = Normal(loc=tf.zeros(K), scale=tf.ones(K))\n",
    "\n",
    "# Categorical likelihood for classication.\n",
    "y = Categorical(tf.matmul(l2,w3)+b3)"
   ]
  },
  {
   "cell_type": "code",
   "execution_count": 4,
   "metadata": {},
   "outputs": [],
   "source": [
    "# Contruct the q(w) and q(b). in this case we assume Normal distributions.\n",
    "qw1 = Normal(loc=tf.Variable(tf.random_normal([D, 256])),\n",
    "              scale=tf.nn.softplus(tf.Variable(tf.random_normal([D, 256]))))\n",
    "qb1 = Normal(loc=tf.Variable(tf.random_normal([256])),\n",
    "              scale=tf.nn.softplus(tf.Variable(tf.random_normal([256]))))\n",
    "qw2 = Normal(loc=tf.Variable(tf.random_normal([256, 256])),\n",
    "              scale=tf.nn.softplus(tf.Variable(tf.random_normal([256, 256]))))\n",
    "qb2 = Normal(loc=tf.Variable(tf.random_normal([256])),\n",
    "              scale=tf.nn.softplus(tf.Variable(tf.random_normal([256]))))\n",
    "qw3 = Normal(loc=tf.Variable(tf.random_normal([256, K])),\n",
    "              scale=tf.nn.softplus(tf.Variable(tf.random_normal([256, K]))))\n",
    "qb3 = Normal(loc=tf.Variable(tf.random_normal([K])),\n",
    "              scale=tf.nn.softplus(tf.Variable(tf.random_normal([K]))))\n"
   ]
  },
  {
   "cell_type": "code",
   "execution_count": 5,
   "metadata": {},
   "outputs": [],
   "source": [
    "# We use a placeholder for the labels in anticipation of the traning data.\n",
    "y_ph = tf.placeholder(tf.int32, [N])\n",
    "\n",
    "# Define the VI inference technique, ie. minimise the KL divergence between q and p.\n",
    "inference = ed.KLqp({w1: qw1, b1: qb1, w2: qw2, b2: qb2, w3: qw3, b3: qb3}, data={y:y_ph})\n",
    "\n",
    "# Initialse the infernce variables\n",
    "inference.initialize(n_iter=5000, n_print=100, scale={y: float(mnist.train.num_examples) / N})\n",
    "\n",
    "# We will use an interactive session.\n",
    "sess = tf.InteractiveSession()\n",
    "# Initialise all the vairables in the session.\n",
    "tf.global_variables_initializer().run()"
   ]
  },
  {
   "cell_type": "code",
   "execution_count": 6,
   "metadata": {},
   "outputs": [
    {
     "name": "stdout",
     "output_type": "stream",
     "text": [
      "5000/5000 [100%] ██████████████████████████████ Elapsed: 21s | Loss: 2470905.000\n"
     ]
    }
   ],
   "source": [
    "# Let the training begin. We load the data in minibatches and update the VI infernce using each new batch.\n",
    "for _ in range(inference.n_iter):\n",
    "    X_batch, Y_batch = mnist.train.next_batch(N)\n",
    "    # TensorFlow method gives the label data in a one hot vetor format. We convert that into a single label.\n",
    "    Y_batch = np.argmax(Y_batch,axis=1)\n",
    "    info_dict = inference.update(feed_dict={x: X_batch, y_ph: Y_batch})\n",
    "    inference.print_progress(info_dict)\n"
   ]
  },
  {
   "cell_type": "code",
   "execution_count": 7,
   "metadata": {},
   "outputs": [],
   "source": [
    "# Load the test images.\n",
    "X_test = mnist.test.images\n",
    "# TensorFlow method gives the label data in a one hot vetor format. We convert that into a single label.\n",
    "Y_test = np.argmax(mnist.test.labels,axis=1)\n",
    "\n",
    "# Generate samples the posterior and store them.\n",
    "n_samples = 100\n",
    "prob_lst = []\n",
    "w1_samples = []\n",
    "b1_samples = []\n",
    "w2_samples = []\n",
    "b2_samples = []\n",
    "w3_samples = []\n",
    "b3_samples = []"
   ]
  },
  {
   "cell_type": "code",
   "execution_count": 8,
   "metadata": {},
   "outputs": [
    {
     "name": "stdout",
     "output_type": "stream",
     "text": [
      "10 steps completed.\n",
      "20 steps completed.\n",
      "30 steps completed.\n",
      "40 steps completed.\n",
      "50 steps completed.\n",
      "60 steps completed.\n",
      "70 steps completed.\n",
      "80 steps completed.\n",
      "90 steps completed.\n",
      "100 steps completed.\n"
     ]
    }
   ],
   "source": [
    "for i in range(n_samples):\n",
    "    w1_samp = qw1.sample()\n",
    "    b1_samp = qb1.sample()\n",
    "    w2_samp = qw2.sample()\n",
    "    b2_samp = qb2.sample()\n",
    "    w3_samp = qw3.sample()\n",
    "    b3_samp = qb3.sample()\n",
    "\n",
    "    w1_samples.append(w1_samp)\n",
    "    b1_samples.append(b1_samp)\n",
    "    w2_samples.append(w2_samp)\n",
    "    b2_samples.append(b2_samp)\n",
    "    w3_samples.append(w3_samp)\n",
    "    b3_samples.append(b3_samp)\n",
    "    # Also compue the probabiliy of each class for each (w,b) sample.\n",
    "    l1_samp = tf.nn.leaky_relu(tf.matmul( X_test,w1_samp ) + b1_samp)\n",
    "    l2_samp = tf.nn.leaky_relu(tf.matmul( l1_samp,w2_samp ) + b2_samp)\n",
    "    l3_samp = tf.matmul( l2_samp,w3_samp ) + b3_samp\n",
    "        \n",
    "    prob = tf.nn.softmax(l3_samp)\n",
    "    prob_lst.append(prob.eval())\n",
    "    if not (i+1)%10:\n",
    "        print(i+1, \"steps completed.\")"
   ]
  },
  {
   "cell_type": "code",
   "execution_count": 15,
   "metadata": {},
   "outputs": [
    {
     "name": "stdout",
     "output_type": "stream",
     "text": [
      "Expactation of Accuracy:  0.9352283\n"
     ]
    }
   ],
   "source": [
    "accy_test = []\n",
    "for prob in prob_lst:\n",
    "    y_trn_prd = np.argmax(prob,axis=1).astype(np.float32)\n",
    "    acc = (y_trn_prd == Y_test).mean()\n",
    "\n",
    "print(\"Expactation of Accuracy: \", sess.run(tf.reduce_mean(accy_test)))"
   ]
  },
  {
   "cell_type": "code",
   "execution_count": 16,
   "metadata": {},
   "outputs": [
    {
     "data": {
      "image/png": "[encoded data removed]",
      "text/plain": [
       "<Figure size 432x288 with 1 Axes>"
      ]
     },
     "metadata": {},
     "output_type": "display_data"
    }
   ],
   "source": [
    "plt.hist(accy_test)\n",
    "plt.title(\"Histogram of prediction accuracies in the MNIST test data\")\n",
    "plt.xlabel(\"Accuracy\")\n",
    "plt.ylabel(\"Frequency\")\n",
    "plt.show()"
   ]
  },
  {
   "cell_type": "code",
   "execution_count": 11,
   "metadata": {
    "scrolled": true
   },
   "outputs": [
    {
     "name": "stdout",
     "output_type": "stream",
     "text": [
      "Extracting ./notMNIST_data/train-images-idx3-ubyte.gz\n",
      "Extracting ./notMNIST_data/train-labels-idx1-ubyte.gz\n",
      "Extracting ./notMNIST_data/t10k-images-idx3-ubyte.gz\n",
      "Extracting ./notMNIST_data/t10k-labels-idx1-ubyte.gz\n"
     ]
    }
   ],
   "source": [
    "not_mnist = input_data.read_data_sets(\"./notMNIST_data/\", one_hot=True)"
   ]
  },
  {
   "cell_type": "code",
   "execution_count": 12,
   "metadata": {},
   "outputs": [],
   "source": [
    "# Load the test images from the data and their lables. \n",
    "Xnm_test = not_mnist.test.images\n",
    "# Once again convert one-hot-vector to the corresponding labels.\n",
    "Ynm_test = np.argmax(not_mnist.test.labels,axis=1)"
   ]
  },
  {
   "cell_type": "code",
   "execution_count": 32,
   "metadata": {},
   "outputs": [
    {
     "name": "stdout",
     "output_type": "stream",
     "text": [
      "truth =  3\n",
      "float32\n"
     ]
    },
    {
     "data": {
      "text/plain": [
       "<matplotlib.image.AxesImage at 0x1c0ee953198>"
      ]
     },
     "execution_count": 32,
     "metadata": {},
     "output_type": "execute_result"
    },
    {
     "data": {
      "image/png": "[encoded data removed]",
      "text/plain": [
       "<Figure size 432x288 with 1 Axes>"
      ]
     },
     "metadata": {},
     "output_type": "display_data"
    }
   ],
   "source": [
    "# Load the first image from the notMNIST.\n",
    "test_image = Xnm_test[0]\n",
    "test_label = Ynm_test[0]\n",
    "print('truth = ',test_label)\n",
    "pixels = test_image.reshape((28, 28))\n",
    "plt.imshow(pixels,cmap='binary')"
   ]
  },
  {
   "cell_type": "code",
   "execution_count": 34,
   "metadata": {},
   "outputs": [
    {
     "name": "stdout",
     "output_type": "stream",
     "text": [
      "10 steps completed.\n",
      "20 steps completed.\n",
      "30 steps completed.\n",
      "40 steps completed.\n",
      "50 steps completed.\n",
      "60 steps completed.\n",
      "70 steps completed.\n",
      "80 steps completed.\n",
      "90 steps completed.\n",
      "100 steps completed.\n"
     ]
    }
   ],
   "source": [
    "nm_sing_img_probs = []\n",
    "for i in range(n_samples):\n",
    "    w1_samp=w1_samples[i]\n",
    "    w2_samp=w2_samples[i]\n",
    "    w3_samp=w3_samples[i]\n",
    "    b1_samp=b1_samples[i]\n",
    "    b2_samp=b2_samples[i]\n",
    "    b3_samp=b3_samples[i]\n",
    "    \n",
    "    \n",
    "    l1_samp = tf.nn.leaky_relu(tf.matmul( Xnm_test[0:1],w1_samp ) + b1_samp)\n",
    "    l2_samp = tf.nn.leaky_relu(tf.matmul( l1_samp,w2_samp ) + b2_samp)\n",
    "    l3_samp = tf.matmul( l2_samp,w3_samp ) + b3_samp\n",
    "    \n",
    "    prob = tf.nn.softmax(l3_samp)\n",
    "    nm_sing_img_probs.append(prob.eval())\n",
    "    if not (i+1)%10:\n",
    "        print(i+1, \"steps completed.\")"
   ]
  },
  {
   "cell_type": "code",
   "execution_count": 35,
   "metadata": {},
   "outputs": [
    {
     "data": {
      "text/plain": [
       "Text(0,0.5,'Frequency')"
      ]
     },
     "execution_count": 35,
     "metadata": {},
     "output_type": "execute_result"
    },
    {
     "data": {
      "image/png": "[encoded data removed]",
      "text/plain": [
       "<Figure size 432x288 with 1 Axes>"
      ]
     },
     "metadata": {},
     "output_type": "display_data"
    }
   ],
   "source": [
    "plt.hist(np.argmax(nm_sing_img_probs,axis=2),bins=range(10))\n",
    "plt.xticks(np.arange(0,10))\n",
    "plt.xlim(0,10)\n",
    "plt.xlabel(\"Accuracy of the prediction of the test letter\")\n",
    "plt.ylabel(\"Frequency\")"
   ]
  },
  {
   "cell_type": "code",
   "execution_count": 12,
   "metadata": {},
   "outputs": [],
   "source": [
    "# Load the test images from the data and their lables. \n",
    "Xm_test = mnist.test.images\n",
    "# Once again convert one-hot-vector to the corresponding labels.\n",
    "Ym_test = np.argmax(mnist.test.labels,axis=1)"
   ]
  },
  {
   "cell_type": "code",
   "execution_count": 13,
   "metadata": {},
   "outputs": [
    {
     "name": "stdout",
     "output_type": "stream",
     "text": [
      "truth =  7\n"
     ]
    },
    {
     "data": {
      "text/plain": [
       "<matplotlib.image.AxesImage at 0x2798b8f1438>"
      ]
     },
     "execution_count": 13,
     "metadata": {},
     "output_type": "execute_result"
    },
    {
     "data": {
      "image/png": "[encoded data removed]",
      "text/plain": [
       "<Figure size 432x288 with 1 Axes>"
      ]
     },
     "metadata": {},
     "output_type": "display_data"
    }
   ],
   "source": [
    "# Load the first image from the notMNIST.\n",
    "test_image = Xm_test[0]\n",
    "test_label = Ym_test[0]\n",
    "print('truth = ',test_label)\n",
    "pixels = test_image.reshape((28, 28))\n",
    "plt.imshow(pixels,cmap='binary')"
   ]
  },
  {
   "cell_type": "code",
   "execution_count": 14,
   "metadata": {},
   "outputs": [
    {
     "name": "stdout",
     "output_type": "stream",
     "text": [
      "10 steps completed.\n",
      "20 steps completed.\n",
      "30 steps completed.\n",
      "40 steps completed.\n",
      "50 steps completed.\n",
      "60 steps completed.\n",
      "70 steps completed.\n",
      "80 steps completed.\n",
      "90 steps completed.\n",
      "100 steps completed.\n"
     ]
    }
   ],
   "source": [
    "nm_sing_img_probs = []\n",
    "for i in range(n_samples):\n",
    "    w1_samp=w1_samples[i]\n",
    "    w2_samp=w2_samples[i]\n",
    "    w3_samp=w3_samples[i]\n",
    "    b1_samp=b1_samples[i]\n",
    "    b2_samp=b2_samples[i]\n",
    "    b3_samp=b3_samples[i]\n",
    "    \n",
    "    \n",
    "    l1_samp = tf.nn.leaky_relu(tf.matmul( Xm_test[0:1],w1_samp ) + b1_samp)\n",
    "    l2_samp = tf.nn.leaky_relu(tf.matmul( l1_samp,w2_samp ) + b2_samp)\n",
    "    l3_samp = tf.matmul( l2_samp,w3_samp ) + b3_samp\n",
    "    \n",
    "    prob = tf.nn.softmax(l3_samp)\n",
    "    nm_sing_img_probs.append(prob.eval())\n",
    "    if not (i+1)%10:\n",
    "        print(i+1, \"steps completed.\")"
   ]
  },
  {
   "cell_type": "code",
   "execution_count": 15,
   "metadata": {},
   "outputs": [
    {
     "data": {
      "text/plain": [
       "Text(0,0.5,'Frequency')"
      ]
     },
     "execution_count": 15,
     "metadata": {},
     "output_type": "execute_result"
    },
    {
     "data": {
      "image/png": "[encoded data removed]",
      "text/plain": [
       "<Figure size 432x288 with 1 Axes>"
      ]
     },
     "metadata": {},
     "output_type": "display_data"
    }
   ],
   "source": [
    "plt.hist(np.argmax(nm_sing_img_probs,axis=2),bins=range(10))\n",
    "plt.xticks(np.arange(0,10))\n",
    "plt.xlim(0,10)\n",
    "plt.xlabel(\"Accuracy of the prediction of the test letter\")\n",
    "plt.ylabel(\"Frequency\")"
   ]
  },
  {
   "cell_type": "code",
   "execution_count": null,
   "metadata": {},
   "outputs": [],
   "source": []
  }
 ],
 "metadata": {
  "kernelspec": {
   "display_name": "Python 3",
   "language": "python",
   "name": "python3"
  },
  "language_info": {
   "codemirror_mode": {
    "name": "ipython",
    "version": 3
   },
   "file_extension": ".py",
   "mimetype": "text/x-python",
   "name": "python",
   "nbconvert_exporter": "python",
   "pygments_lexer": "ipython3",
   "version": "3.6.5"
  }
 },
 "nbformat": 4,
 "nbformat_minor": 2
}
